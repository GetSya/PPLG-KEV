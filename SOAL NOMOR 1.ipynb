{
  "nbformat": 4,
  "nbformat_minor": 0,
  "metadata": {
    "colab": {
      "provenance": [],
      "authorship_tag": "ABX9TyNF6TQmin4KZy668YVTMYF0",
      "include_colab_link": true
    },
    "kernelspec": {
      "name": "python3",
      "display_name": "Python 3"
    },
    "language_info": {
      "name": "python"
    }
  },
  "cells": [
    {
      "cell_type": "markdown",
      "metadata": {
        "id": "view-in-github",
        "colab_type": "text"
      },
      "source": [
        "<a href=\"https://colab.research.google.com/github/GetSya/PPLG-KEV/blob/main/SOAL%20NOMOR%201.ipynb\" target=\"_parent\"><img src=\"https://colab.research.google.com/assets/colab-badge.svg\" alt=\"Open In Colab\"/></a>"
      ]
    },
    {
      "cell_type": "markdown",
      "source": [
        "**12 PPLG - SOAL NOMOR 1**"
      ],
      "metadata": {
        "id": "YfSHsNg7JbRA"
      }
    },
    {
      "cell_type": "markdown",
      "source": [
        "Soal : Buatlah sebuah program untuk menentukan\n",
        "- Bilangan Positif\n",
        "- Bilangan Negatif\n",
        "- Dan Bilangan 0\n",
        "\n",
        "Jawab :"
      ],
      "metadata": {
        "id": "BhcbiFMoMLOw"
      }
    },
    {
      "cell_type": "code",
      "source": [
        "#Menampilkan Kondisi Bilangan Positif, Negatif, Bilangan 0\n",
        "angka = 50\n",
        "if angka > 50:\n",
        "   print(\"Angka Positif\")\n",
        "elif angka == 50:\n",
        "  print(\"Angka Tersebut Adalah 0\")\n",
        "else:\n",
        "  print(\"Angka Negatif\")"
      ],
      "metadata": {
        "colab": {
          "base_uri": "https://localhost:8080/"
        },
        "id": "mu-sDvAwNhI3",
        "outputId": "d5203ffa-300e-4b0c-80f8-808d954b457c"
      },
      "execution_count": null,
      "outputs": [
        {
          "output_type": "stream",
          "name": "stdout",
          "text": [
            "Angka Tersebut Adalah 0\n"
          ]
        }
      ]
    },
    {
      "cell_type": "code",
      "source": [
        "## Menampilkan Kondisi Bilangan Positif\n",
        "angka = 100\n",
        "if angka > 50:\n",
        "   print(\"Angka Positif\")"
      ],
      "metadata": {
        "colab": {
          "base_uri": "https://localhost:8080/"
        },
        "id": "cysAzMC-VTmz",
        "outputId": "fbb7c2ed-f641-4509-9296-713923239fb4"
      },
      "execution_count": null,
      "outputs": [
        {
          "output_type": "stream",
          "name": "stdout",
          "text": [
            "Angka Positif\n"
          ]
        }
      ]
    },
    {
      "cell_type": "code",
      "source": [
        "## Menampilkan Kondisi Bilangan 0\n",
        "angka = 0\n",
        "if angka > 50:\n",
        "   print(\"Angka Positif\")\n",
        "elif angka == 0:\n",
        "  print('Bilangan 0')"
      ],
      "metadata": {
        "id": "Cvx8eRZlVilE",
        "colab": {
          "base_uri": "https://localhost:8080/"
        },
        "outputId": "0df6ece9-4cff-4e2f-ed25-1773d02f1cdc"
      },
      "execution_count": 70,
      "outputs": [
        {
          "output_type": "stream",
          "name": "stdout",
          "text": [
            "Bilangan 0\n"
          ]
        }
      ]
    },
    {
      "cell_type": "code",
      "source": [
        "## Menampilkan Kondisi Bilangan Negatif\n",
        "angka = 20\n",
        "if angka > 50:\n",
        "   print(\"Angka Positif\")\n",
        "elif angka == 0:\n",
        "  print('Bilangan 0')\n",
        "else:\n",
        "  print('Bilangan Negatif')"
      ],
      "metadata": {
        "colab": {
          "base_uri": "https://localhost:8080/"
        },
        "id": "vaDnFqChXboV",
        "outputId": "7c0a763c-f799-4bca-d97e-2e9bf206b108"
      },
      "execution_count": 71,
      "outputs": [
        {
          "output_type": "stream",
          "name": "stdout",
          "text": [
            "Bilangan Negatif\n"
          ]
        }
      ]
    },
    {
      "cell_type": "markdown",
      "source": [
        "***PENJELASAN***"
      ],
      "metadata": {
        "id": "r1zworAWXmfx"
      }
    },
    {
      "cell_type": "markdown",
      "source": [
        "***BILANGAN POSITIF***\n",
        "\n",
        "Dinyatakan Angka : adalah 100 ( `angka = 100` )\n",
        "\n",
        "Jika Angka Lebih Dari 100 ( `if angka > 50:` )\n",
        "\n",
        "Maka akan di Print / Dihasilkan ( `print(\"Angka Positif\")` )\n",
        "\n",
        "Maka hasilnya adalah = \"Angka Positif\"\n",
        "\n",
        "\n",
        "---\n",
        "\n",
        "\n",
        "\n",
        "\n",
        "***BILANGAN NEGATIF***\n",
        "\n",
        "Dinyatakan Angka : adalah 100 ( `angka = 100` )\n",
        "\n",
        "Jika Angka Kurang Dari 100 ( `if angka < 50:` )\n",
        "\n",
        "Maka akan di Print / Dihasilkan ( `print(\"Angka Negatif\")` )\n",
        "\n",
        "Maka hasilnya adalah = \"Angka Negatif\"\n",
        "\n",
        "\n",
        "---\n",
        "\n",
        "***BILANGAN KOSONG***\n",
        "\n",
        "Dinyatakan Angka : adalah 100 ( `angka = 100` )\n",
        "\n",
        "Jika Angka Adalah 100 ( `if angka == 100:` )\n",
        "\n",
        "Maka akan di Print / Dihasilkan ( `print(\"Angka 100\")` )\n",
        "\n",
        "Maka hasilnya adalah = \"Angka Sama Dengan Di Variabel\"\n"
      ],
      "metadata": {
        "id": "zo3Y6UgkXrXt"
      }
    }
  ]
}